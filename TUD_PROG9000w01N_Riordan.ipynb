{
 "cells": [
  {
   "cell_type": "markdown",
   "metadata": {},
   "source": [
    "***"
   ]
  },
  {
   "cell_type": "markdown",
   "metadata": {},
   "source": [
    "# Exercise 1\n",
    "\n",
    "Before starting, make a copy of this file and save it as \n",
    "> TUD_PROG9000w01_First-initial_Surname\n",
    "\n",
    "If we wanted to perform some more complicated procedure, we can build the process from these blocks. For example, to get the distance between two points A and B with co-ordinates (1,2) and (3,4) respectively, we can use the formula for the Euclidean distance:\n",
    "$$ d = \\sqrt{(x_2 - x_1)^2 + (y_2 - y_1)^2} $$\n",
    "\n",
    "\n",
    "Give this a try now. The answer you need to get is 2.8284271247461903\n",
    "\n",
    "Steps in doing this:\n",
    " - assign values to variables `x1 = 1` etc.\n",
    " \n",
    " - write the formula starting with the inside and working out\n",
    " \n",
    " - run the piece of code (click run button or ctrl-enter)\n",
    " \n",
    " I've helped you out by filling out some of the code."
   ]
  },
  {
   "cell_type": "code",
   "execution_count": 22,
   "metadata": {},
   "outputs": [
    {
     "name": "stdout",
     "output_type": "stream",
     "text": [
      "2.8284271247461903\n"
     ]
    }
   ],
   "source": [
    "# assign values to variables\n",
    "x1 = 1\n",
    "x2 = 3\n",
    "y1 = 2\n",
    "y2 = 4\n",
    "\n",
    "# write formula\n",
    "d = ((x2 - x1)**2 + (y2 - y1)**2)**0.5\n",
    "\n",
    "# output the answer \n",
    "# note we convert the numeric d to a string before \n",
    "# output with the str() function\n",
    "\n",
    "print(str(d))"
   ]
  },
  {
   "cell_type": "markdown",
   "metadata": {},
   "source": [
    "## Input and Output:\n",
    "\n",
    "To get some user input, use the `input()` function.\n",
    "\n",
    "To generate a simple output, use `print()` function.\n",
    "\n",
    "More detail here: https://docs.python.org/3.6/tutorial/inputoutput.html?highlight=input"
   ]
  },
  {
   "cell_type": "code",
   "execution_count": 23,
   "metadata": {},
   "outputs": [
    {
     "name": "stdin",
     "output_type": "stream",
     "text": [
      "Please type in your name  Nicola\n"
     ]
    },
    {
     "name": "stdout",
     "output_type": "stream",
     "text": [
      "Username: Nicola\n"
     ]
    }
   ],
   "source": [
    "username = input(\"Please type in your name \")\n",
    "print(\"Username:\",username)"
   ]
  },
  {
   "cell_type": "markdown",
   "metadata": {},
   "source": [
    "***"
   ]
  },
  {
   "cell_type": "code",
   "execution_count": 18,
   "metadata": {},
   "outputs": [
    {
     "name": "stdout",
     "output_type": "stream",
     "text": [
      "False\n",
      "True\n",
      "True\n",
      "True\n"
     ]
    }
   ],
   "source": [
    "x = 3\n",
    "y = 6\n",
    "z = 6.0\n",
    "\n",
    "print(x > y)\n",
    "\n",
    "print(x < y)\n",
    "\n",
    "print(y <= z)\n",
    "\n",
    "print(y == z)"
   ]
  },
  {
   "cell_type": "code",
   "execution_count": 19,
   "metadata": {},
   "outputs": [
    {
     "name": "stdout",
     "output_type": "stream",
     "text": [
      "Sorry that was a joke\n"
     ]
    }
   ],
   "source": [
    "if 2 > x:\n",
    "    print(\"Class is over - you've all passed\")\n",
    "else:\n",
    "    print(\"Sorry that was a joke\")"
   ]
  },
  {
   "cell_type": "markdown",
   "metadata": {},
   "source": [
    "# Exercise 2\n",
    "Let's write a simple program to output the number of days in each month. I've put most of the code in, you fill in the rest."
   ]
  },
  {
   "cell_type": "code",
   "execution_count": 11,
   "metadata": {},
   "outputs": [
    {
     "name": "stdin",
     "output_type": "stream",
     "text": [
      "Please enter the numeric value of the month - eg 4 for April 7\n"
     ]
    }
   ],
   "source": [
    "month = input(\"Please enter the numeric value of the month - eg 4 for April\")\n"
   ]
  },
  {
   "cell_type": "code",
   "execution_count": 12,
   "metadata": {},
   "outputs": [
    {
     "name": "stdout",
     "output_type": "stream",
     "text": [
      "31\n"
     ]
    }
   ],
   "source": [
    "if (month == \"2\"):\n",
    "    print(\"28 or sometimes 29\")\n",
    "elif month == \"9\":\n",
    "    print(\"30\")\n",
    "elif month == \"4\":\n",
    "    print(\"30\")\n",
    "elif month == \"6\":\n",
    "    print(\"30\")\n",
    "elif month == \"11\":\n",
    "    print(\"30\")\n",
    "elif month == \"1\":\n",
    "    print(\"31\")\n",
    "elif month == \"3\":\n",
    "    print(\"31\")\n",
    "elif month == \"5\":\n",
    "    print(\"31\")\n",
    "elif month == \"7\":\n",
    "    print(\"31\")\n",
    "elif month == \"8\":\n",
    "    print(\"31\")\n",
    "elif month == \"10\":\n",
    "    print(\"31\")\n",
    "elif month == \"12\":\n",
    "    print(\"31\")\n"
   ]
  },
  {
   "cell_type": "markdown",
   "metadata": {},
   "source": [
    "***"
   ]
  },
  {
   "cell_type": "markdown",
   "metadata": {},
   "source": [
    "## Further Exercises"
   ]
  },
  {
   "cell_type": "markdown",
   "metadata": {},
   "source": [
    "Let's write a few simple programs.\n",
    "\n",
    " - Geometry\n",
    "     - calculate the volume of a sphere with radius 20mm.  \n",
    "        - Formula for sphere volume is $$ 4/3.\\Pi.r^3$$  \n",
    "        - Output the result with a nice message.\n",
    "     - allow the user to enter a radius for the above program and output the result.\n",
    "     - calculate the volume of a cylinder, allowing the user to input the height and radius, and then print the output with a nice message.\n",
    "     - calculate the volume of a cone, allowing the user to input the height and radius, and then print the output with a nice message.\n",
    "\n",
    " \n",
    " (Do nice outputs for all the below also...)\n",
    " - calculate the fuel efficiency achieved on a journey, allowing the user to input the distance travelled and the amount of fuel used.\n",
    " \n",
    " - Currency Exchange\n",
    "     - create a Fahrenheit to Celsius converter, with user input\n",
    "     - create a Celsius to Fahrenheit converter, with user input\n",
    "     - combine the calculators into one, and allow the user to choose which conversion to do (hint: you'll need to use an if statement).\n",
    " "
   ]
  },
  {
   "cell_type": "code",
   "execution_count": 22,
   "metadata": {},
   "outputs": [
    {
     "name": "stdin",
     "output_type": "stream",
     "text": [
      "enter the radius in meters eg. 0.02: 0.9\n"
     ]
    },
    {
     "name": "stdout",
     "output_type": "stream",
     "text": [
      "the volume of the sphere is: 3.053628059289279 m cubed\n"
     ]
    }
   ],
   "source": [
    "r = input(\"enter the radius of the sphere in meters eg. 0.02:\")\n",
    "pi = 3.141592653589793\n",
    "\n",
    "\n",
    "\n",
    "result = \"the volume of the sphere is: \" + str((4/3)*pi*float(r)**3) + \" m cubed\"\n",
    "print(result)"
   ]
  },
  {
   "cell_type": "code",
   "execution_count": 23,
   "metadata": {},
   "outputs": [
    {
     "name": "stdin",
     "output_type": "stream",
     "text": [
      "enter the height of the cylinder in meters eg. 0.02: 2\n",
      "enter the radius of the cylinder in meters eg. 0.02: 4\n"
     ]
    },
    {
     "name": "stdout",
     "output_type": "stream",
     "text": [
      "the volume of the cylinder is: 100.53096491487338 m cubed\n"
     ]
    }
   ],
   "source": [
    "h = input(\"enter the height of the cylinder in meters eg. 0.02:\")\n",
    "r = input(\"enter the radius of the cylinder in meters eg. 0.02:\")\n",
    "pi = 3.141592653589793\n",
    "\n",
    "\n",
    "\n",
    "result = \"the volume of the cylinder is: \" + str(pi*float(r)**2*float(h)) + \" m cubed\"\n",
    "print(result)"
   ]
  },
  {
   "cell_type": "code",
   "execution_count": 24,
   "metadata": {},
   "outputs": [
    {
     "name": "stdin",
     "output_type": "stream",
     "text": [
      "enter the height of the cone in meters eg. 0.02: 3\n",
      "enter the radius of the cone in meters eg. 0.02: 2\n"
     ]
    },
    {
     "name": "stdout",
     "output_type": "stream",
     "text": [
      "the volume of the cone is: 12.566370614359172 m cubed\n"
     ]
    }
   ],
   "source": [
    "h = input(\"enter the height of the cone in meters eg. 0.02:\")\n",
    "r = input(\"enter the radius of the cone in meters eg. 0.02:\")\n",
    "pi = 3.141592653589793\n",
    "\n",
    "\n",
    "\n",
    "result = \"the volume of the cone is: \" + str((pi*float(r)**2*float(h))/3) + \" m cubed\"\n",
    "print(result)"
   ]
  },
  {
   "cell_type": "code",
   "execution_count": 2,
   "metadata": {},
   "outputs": [
    {
     "name": "stdin",
     "output_type": "stream",
     "text": [
      "enter the number of litres used: 55\n",
      "enter distance travelled in km: 600\n"
     ]
    },
    {
     "name": "stdout",
     "output_type": "stream",
     "text": [
      "the fuel efficiency is: 9.166666666666666 litres/100km\n"
     ]
    }
   ],
   "source": [
    "l = input(\"enter the number of litres used:\")\n",
    "d = input(\"enter distance travelled in km:\")\n",
    "\n",
    "e = \"not valid\"\n",
    "if (float(d) != 0) : \n",
    "    e = (float(l)/float(d))*100\n",
    "\n",
    "\n",
    "result = \"the fuel efficiency is: \" + str(e) + \" litres/100km\"\n",
    "print(result)"
   ]
  },
  {
   "cell_type": "code",
   "execution_count": 5,
   "metadata": {},
   "outputs": [
    {
     "name": "stdin",
     "output_type": "stream",
     "text": [
      "enter degrees in Fahrenheit: 212\n"
     ]
    },
    {
     "name": "stdout",
     "output_type": "stream",
     "text": [
      "100.0 degrees Celcius\n"
     ]
    }
   ],
   "source": [
    "f = input(\"enter degrees in Fahrenheit:\")\n",
    "\n",
    "c = (float(f) - 32)*(5/9)\n",
    "\n",
    "result = str(c) + \" degrees Celcius\"\n",
    "print(result)"
   ]
  },
  {
   "cell_type": "code",
   "execution_count": 7,
   "metadata": {},
   "outputs": [
    {
     "name": "stdin",
     "output_type": "stream",
     "text": [
      "enter degrees in Celcius: 100\n"
     ]
    },
    {
     "name": "stdout",
     "output_type": "stream",
     "text": [
      "212.0 degrees Fahrenheit\n"
     ]
    }
   ],
   "source": [
    "c = input(\"enter degrees in Celcius:\")\n",
    "\n",
    "f = float(c)*(9/5)+32\n",
    "\n",
    "result = str(f) + \" degrees Fahrenheit\"\n",
    "print(result)"
   ]
  },
  {
   "cell_type": "code",
   "execution_count": 21,
   "metadata": {},
   "outputs": [
    {
     "name": "stdin",
     "output_type": "stream",
     "text": [
      "Please use c for celcius to fahrenheit or f for fahrenheit to celcius f\n",
      "enter degrees: 0\n"
     ]
    },
    {
     "name": "stdout",
     "output_type": "stream",
     "text": [
      "-17.77777777777778 degrees\n"
     ]
    }
   ],
   "source": [
    "Choice = input(\"Please use c for celcius to fahrenheit or f for fahrenheit to celcius\")\n",
    "v = input(\"enter degrees:\")\n",
    "if(Choice.lower() == \"f\"):\n",
    "    o = (float(v) - 32)*(5/9)\n",
    "else:\n",
    "    o = (float(v)*(9/5)+32)\n",
    "    \n",
    "result = str(o) + \" degrees\"\n",
    "print(result)\n"
   ]
  },
  {
   "cell_type": "markdown",
   "metadata": {},
   "source": [
    "***"
   ]
  },
  {
   "cell_type": "markdown",
   "metadata": {},
   "source": [
    "<b>Introduction</b> <br>\n",
    "<p>My name is Nicola Riordan, I have a BSc in archaeology & geology from University College Dublin, and an MA in archaeology also from UCD, where I was first introduced to GIS. I completed two modules in GIS; ‘introduction to GIS and special methods in archaeology’, and ‘advanced GIS in archaeology and heritage’. I learned how to use the software ArcMap in an archaeological setting; designing a route for tourists to visit heritage sites, which proposed roads would impact archaeological sites the least, and how to use the software to find patterns of the placement of archaeological sites. My thesis for the MA was ‘The Relationship between Late Medieval Churches and the Natural and Cultural Landscape’. For this, I first had to make a dataset of all late medieval churches in Leinster, detailing their ages and locations, as well as whether or not they were still physically there. I visited 20 churches around Leinster as case study churches, where I surveyed them and determined what rock type they were built of. I used ArcMap to determine their relationship to the natural landscape; where they stood in relation to soil type, slope, aspect, bedrock, proximity to rivers and so on, and also their relationship to the cultural landscape; how close they were to other medieval buildings, and prehistoric buildings. The final part was determining whether or not they were built of local rock – for the most part the materials directly reflected the local rock (if the local rock was made up of 30% granite, 30% quartzite and 40% sandstone, the church would be built of 30% granite, 30% quartzite and 40% sandstone). I really enjoyed using GIS to analyse the relationship between archaeological features, and I would like to learn more about GIS and how it can be applied to other areas. </p>\n",
    "\n",
    "<p><b>Three key features of Python:</b><br>\n",
    "Python is portable; it can be used on different systems. A Python code written on a Mac does not have to be changed for it to work on a Windows machine \n",
    "Python has a large standard library including databases, regular expressions, and web browsers, that is ready to use; you don’t have to write your own code for every single thing \n",
    "Python supports both procedure-oriented and object-oriented programming, which makes it more usable and flexible than some other languages (Dataflair Team, 2017) </p>\n",
    "\n",
    "<p><b>What major software/applications are built on Python</b><br>\n",
    "Youtube and Instagram are both built on Python Software, and Reddit was originally written in CommonLisp, but was rewritten in Python to gain flexibility and also give it access to Python’s code libraries (Code Institute)</p>\n",
    "\n",
    "<p><b>What relationship does it have with GIS?</b><br>\n",
    "Many geographic information systems are written using Python. Python grants access to well known and relevant libraries, such as Google Maps (Altaweel, 2017).</p>\n",
    "\n",
    "<p><b>Types of data useful in GIS</b><br>\n",
    "Vector data such as polygons representing regional boundaries come in very useful in GIS, for measuring areas and distances as well as showing legal boundaries. Other vector data such as points can be useful for showing the location and distribution of buildings in a certain area. Raster data can also be very useful when completing GIS tasks, such as data showing the population density of an area (Demsey, 2017)</p>\n",
    "\n",
    "<p><b>Identify a project that used computer programming to help solve a GIS task</b><br>\n",
    "A project was conducted using GIS to calculate and model sand transported by wind along sandy beaches in Egypt. Programming was used to apply a code in GIS to provide a methodology for these calculations. The programming in GIS helped to calculate and model the amount of the sand being transported quickly and accurately.  The program written can be used either on its own or as an extension of ArcGIS (Wahid, 2008)</p>\n",
    "<br>\n",
    "Altaweel, M. (2017). The Use of Python in GIS. Available: https://www.gislounge.com/use-python-gis/. Last accessed 24/09/19.<br>\n",
    "Code Institute. 7 Popular Software Programs Written in Python. Available: https://codeinstitute.net/blog/7-popular-software-programs-written-in-python/. Last accessed 24/09/19.<br>\n",
    "Dataflair Team. (2017). 13 Unique Features of Python Programming Language. Available: https://data-flair.training/blogs/features-of-python/. Last accessed 24/09/19.<br>\n",
    "Demsey, C. (2017). Types of GIS Data Explored: Vector and Raster. Available: https://www.gislounge.com/geodatabases-explored-vector-and-raster-data/. <br> \n",
    "Wahid, A. (2008). GIS-Based Modeling of Wind-Transported Sand on the Qaa Plain Beach, Southwestern Sinai, Egypt. Journal of Coastal Research. 24 (4), p936-943. \n"
   ]
  },
  {
   "cell_type": "code",
   "execution_count": null,
   "metadata": {},
   "outputs": [],
   "source": []
  }
 ],
 "metadata": {
  "kernelspec": {
   "display_name": "Python 3",
   "language": "python",
   "name": "python3"
  },
  "language_info": {
   "codemirror_mode": {
    "name": "ipython",
    "version": 3
   },
   "file_extension": ".py",
   "mimetype": "text/x-python",
   "name": "python",
   "nbconvert_exporter": "python",
   "pygments_lexer": "ipython3",
   "version": "3.7.3"
  }
 },
 "nbformat": 4,
 "nbformat_minor": 4
}

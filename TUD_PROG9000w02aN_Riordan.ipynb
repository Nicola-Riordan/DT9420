{
 "cells": [
  {
   "cell_type": "markdown",
   "metadata": {
    "slideshow": {
     "slide_type": "slide"
    }
   },
   "source": [
    "## Practice:\n",
    "\n",
    "A- Write a program that asks the user for their mark in an exam and tells them if they have passed or not (40% is the pass mark).\n",
    " - Set up a variable with the threshold set to 40\n",
    " - Ask user for value\n",
    " - Compare and display appropriate message\n",
    "\n",
    "B-Modify your code to account for a change in the examination rules that specifies a pass mark to be greater than 55%"
   ]
  },
  {
   "cell_type": "code",
   "execution_count": 173,
   "metadata": {
    "slideshow": {
     "slide_type": "subslide"
    }
   },
   "outputs": [
    {
     "name": "stdout",
     "output_type": "stream",
     "text": [
      "Please enter your exam result: 98\n",
      "Congratulations, you passed!!!!\n"
     ]
    }
   ],
   "source": [
    "# Reorder the lines of code for Part A above...\n",
    "mark = input(\"Please enter your exam result: \")\n",
    "mark = int(mark)\n",
    "\n",
    "threshold = 40\n",
    "\n",
    "if mark >= threshold:\n",
    "    print(\"Congratulations, you passed!!!!\")\n",
    "else:\n",
    "    print(\"Sorry, you need to repeat this module\")\n"
   ]
  },
  {
   "cell_type": "markdown",
   "metadata": {
    "slideshow": {
     "slide_type": "slide"
    }
   },
   "source": [
    "C \n",
    "Write a program that will ask the user their age and return a message that will tell them if they are considered\n",
    "- Under age (<18)\n",
    "- Adult (between 18 and 64)\n",
    "- Retired (over 64)\n",
    "\n",
    "D  \n",
    "Write a program that calculates the shipping cost for a product given the following information:<br>\n",
    "Product Price / Shipping Cost<br>\n",
    "\n",
    "if product price is less than $ 50, shipping cost is $3<br>\n",
    "if product price is between $ 50 and $ 100 - shipping cost is $ 5 <br>\n",
    "if product price is greater than $ 100 - shipping cost is $ 0<br>\n",
    "tip write a program to input product price and then add the shipping cost, output a total"
   ]
  },
  {
   "cell_type": "code",
   "execution_count": 174,
   "metadata": {},
   "outputs": [
    {
     "name": "stdout",
     "output_type": "stream",
     "text": [
      "what is your age? 24\n",
      "you are an adult\n"
     ]
    }
   ],
   "source": [
    "#C\n",
    "age = input(\"what is your age? \")\n",
    "age = int(age)\n",
    "\n",
    "if age <18:\n",
    "    print(\"you are under age\")\n",
    "elif age >64:\n",
    "    print(\"you are retired\")\n",
    "else:\n",
    "    print(\"you are an adult\")\n",
    "    "
   ]
  },
  {
   "cell_type": "code",
   "execution_count": 175,
   "metadata": {},
   "outputs": [
    {
     "name": "stdout",
     "output_type": "stream",
     "text": [
      "enter your product price: 45\n",
      "shipping cost is $3\n"
     ]
    }
   ],
   "source": [
    "#D\n",
    "cost = input(\"enter your product price: \")\n",
    "cost = int(cost)\n",
    "\n",
    "if cost <50:\n",
    "    print(\"shipping cost is $3\")\n",
    "elif cost >100:\n",
    "    print(\"shipping cost is $0\")\n",
    "else:\n",
    "    print(\"shipping cost is $5\")\n",
    "    \n"
   ]
  },
  {
   "cell_type": "markdown",
   "metadata": {},
   "source": [
    " \n",
    "### Exercises\n",
    "1. The following categories are given to cakes depending on their sugar content:\n",
    " - A sugar>500\n",
    " - B sugar between 300 and 500\n",
    " - C sugar < 300\n",
    "\n",
    "    Write a python program that will categorize a cake when its sugar content is inserted.\n",
    "\n",
    "2. Capture a date as three integer numbers: year, month, day. Say if it is a correct one (month between 1 and 12, day 1-28, 1-30 or 1-31 according to the month, ignore leap years)\n",
    "\n",
    "3. Capture two dates as year, month, day. Say which of them precedes the other.\n",
    "\n",
    "4. Capture a year as integer number. Say if it is a leap year. A year will be a leap year if it is divisible by 4 but not by 100. If a year is divisible by 4 and by 100, it is not a leap year unless it is also divisible by 400.\n",
    "\n",
    "Compare your result with:\n",
    "    import calendar\n",
    "    print calendar.isleap(1999)\n",
    "\n",
    "5. Find the roots of a quadratic equation given the coefficients a, b and c:\n",
    "    Quadratic formula \n",
    "    \n",
    "   $$x=\\frac{-b\\pm \\sqrt{b^2-4ac}}{2a}.$$\n",
    "    \n",
    "    Discriminant= $$b^2-4ac$$\n",
    "\n",
    "    Three possibilities\n",
    "    1. discriminant =0 one real root (-b/2a)\n",
    "    2. discriminant >0 two real roots (-b+discriminant)/2a and (-b-discriminant)/2a\n",
    "    3. discriminant <0 no real roots\n",
    "\n",
    "6. Update your quadratic equation code to generate the values of a , b and c randomly.\n",
    "    Check for 0 values (a cannot be 0)\n",
    "    a, b and c are integers between 0 and 15\n",
    "\n",
    "7. Write a program that generates a pseudorandom number between 1 and 7 and tell the user what day of the week it corresponds to.\n",
    "8. Capture, as a string, a month of the year. Display a message that tells the user whether the month is in Spring, Summer, Autumn or Winter.\n",
    "EXTRA\n",
    "9. Capture three integer numbers and print out the largest of the three numbers.\n",
    "10. Capture three integer numbers and print out the appropriate message: “the tree numbers are equal”, “two numbers are equal and the other different”, “the three numbers are different” .\n",
    "11. Capture three integer numbers and say which of the numbers has the smallest value ( the first, the second, the first and the third, the second and the third,…)\n",
    "12. Capture three different integer numbers and print out again the three numbers but in increasing order."
   ]
  },
  {
   "cell_type": "code",
   "execution_count": 176,
   "metadata": {},
   "outputs": [
    {
     "name": "stdout",
     "output_type": "stream",
     "text": [
      "enter your sugar content here: 450\n",
      "category B\n"
     ]
    }
   ],
   "source": [
    "#1\n",
    "sugar = input(\"enter your sugar content here: \")\n",
    "sugar = int(sugar)\n",
    "\n",
    "if sugar >500:\n",
    "    print(\"category A\")\n",
    "elif sugar <300:\n",
    "    print(\"category C\")\n",
    "else:\n",
    "    print(\"category B\")\n",
    "    "
   ]
  },
  {
   "cell_type": "code",
   "execution_count": 23,
   "metadata": {},
   "outputs": [
    {
     "name": "stdout",
     "output_type": "stream",
     "text": [
      "enter year as 1 number eg 26: 19\n",
      "enter month as 1 number eg 09: 11\n",
      "enter day as 1 number eg 19: 31\n",
      "you entered: 19.11.31\n",
      "error: this month only has 30 days\n"
     ]
    }
   ],
   "source": [
    "#2\n",
    "year = input(\"enter year as 1 number eg 26: \")\n",
    "year = int(year)\n",
    "\n",
    "month = input(\"enter month as 1 number eg 09: \")\n",
    "month = int(month)\n",
    "\n",
    "day = input(\"enter day as 1 number eg 19: \")\n",
    "day = int(day)\n",
    "\n",
    "date = str(year) + \".\" + str(month) + \".\" + str(day)\n",
    "print(\"you entered: \" + date)\n",
    "\n",
    "if month >12:\n",
    "    print(\"error: month must be between 1 and 12\")\n",
    "\n",
    "if (month == 4 or month == 6 or month == 9 or month == 11) and day > 30:\n",
    "    print(\"error: this month only has 30 days\")\n",
    "elif month == 2 and day > 28:\n",
    "    print(\"error: February only has 28 days\")\n",
    "else:\n",
    "    print(\"correct: valid date\")\n"
   ]
  },
  {
   "cell_type": "code",
   "execution_count": 33,
   "metadata": {},
   "outputs": [
    {
     "name": "stdout",
     "output_type": "stream",
     "text": [
      "enter your first year here eg. 2019: 2019\n",
      "enter your first month here eg. 12: 12\n",
      "enter your first day here eg. 21: 19\n",
      "enter your second year here eg. 2019: 2019\n",
      "enter your second month here eg. 12: 12\n",
      "enter your second day here eg. 21: 02\n",
      "date 1: 2019.12.19\n",
      "date 2: 2019.12.2\n",
      "date 2 precedes date 1\n"
     ]
    }
   ],
   "source": [
    "#3\n",
    "year1 = input(\"enter your first year here eg. 2019: \")\n",
    "year1 = int(year1)\n",
    "month1 = input(\"enter your first month here eg 12: \")\n",
    "month1 = int(month1)\n",
    "day1 = input(\"enter your first day here eg. 21: \")\n",
    "day1 = int(day1)\n",
    "year2 = input(\"enter your second year here eg. 2019: \")\n",
    "year2 = int(year2)\n",
    "month2 = input(\"enter your second month here eg. 12: \")\n",
    "month2 = int(month2)\n",
    "day2 = input(\"enter your second day here eg. 21: \")\n",
    "day2 = int(day2)\n",
    "\n",
    "date1 = str(year1) + \".\" + str(month1) + \".\" + str(day1)\n",
    "print(\"date 1: \" + date1)\n",
    "\n",
    "date2 = str(year2) + \".\" + str(month2) + \".\" + str(day2)\n",
    "print(\"date 2: \" + date2)\n",
    "\n",
    "if year1 > year2:\n",
    "    print(\"date 2 precedes date 1\")\n",
    "elif year2 > year1:\n",
    "    print(\"date 1 precedes date 2\")\n",
    "\n",
    "if year1 == year2:\n",
    "    if month1 > month2:\n",
    "        print(\"date 2 precedes date 1\")\n",
    "    elif month2 > month1:\n",
    "        print(\"date 1 precedes date 2\")\n",
    "    elif month1 == month2:\n",
    "        if day1 > day2:\n",
    "            print(\"date 2 precedes date 1\")\n",
    "        elif day2 > day1:\n",
    "            print(\"date 1 precedes date 2\")\n",
    "        elif day1 == day2:\n",
    "            print(\"you have entered the same date twice\")\n",
    "            "
   ]
  },
  {
   "cell_type": "code",
   "execution_count": 46,
   "metadata": {},
   "outputs": [
    {
     "name": "stdout",
     "output_type": "stream",
     "text": [
      "enter your year here: 2000\n",
      "Calendar Says: True\n",
      "this year is a leap year\n"
     ]
    }
   ],
   "source": [
    "## 4\n",
    "import calendar\n",
    "\n",
    "year = input(\"enter your year here: \")\n",
    "year = int(year)\n",
    "\n",
    "print (\"Calendar Says: \" + str(calendar.isleap(year)))\n",
    "\n",
    "if year % 4 ==0 and year % 100 !=0:\n",
    "    print(\"this is a leap year\")\n",
    "elif year % 4 ==0 and year %100 ==0 and year %400 ==0:\n",
    "    print(\"this year is a leap year\")\n",
    "else:\n",
    "    print(\"this year is not a leap year\")\n",
    "\n",
    "       \n"
   ]
  },
  {
   "cell_type": "code",
   "execution_count": 2,
   "metadata": {},
   "outputs": [
    {
     "name": "stdout",
     "output_type": "stream",
     "text": [
      "root 1 = (-10.499999999999995+75.63563974741008j)\n",
      "root 2 = (-10.500000000000005-75.63563974741008j)\n",
      "no real roots\n"
     ]
    }
   ],
   "source": [
    "#5\n",
    "a = 7\n",
    "b = 3\n",
    "c = 17\n",
    "\n",
    "plus_result = (-b + (b**2 - 4 * a * c)**0.5)/ 2*a\n",
    "minus_result = (-b - (b**2 - 4 * a * c)**0.5)/ 2*a\n",
    "print (\"root 1 = \" + str(plus_result))\n",
    "print (\"root 2 = \" + str(minus_result))\n",
    "\n",
    "Discriminant = b**2 - 4 * a * c\n",
    "\n",
    "if Discriminant == 0:\n",
    "    print(\"one real root\")\n",
    "elif Discriminant > 0:\n",
    "    print(\"two real roots\")\n",
    "elif Discriminant < 0:\n",
    "    print(\"no real roots\")"
   ]
  },
  {
   "cell_type": "code",
   "execution_count": 111,
   "metadata": {},
   "outputs": [
    {
     "name": "stdout",
     "output_type": "stream",
     "text": [
      "2\n",
      "11\n",
      "2\n",
      "root 1 = -0.753049234040402\n",
      "root 2 = -21.246950765959596\n",
      "two real roots\n"
     ]
    }
   ],
   "source": [
    "#6\n",
    "\n",
    "import random \n",
    "\n",
    "a = random.randint(1,15)\n",
    "b = random.randint(0,15)\n",
    "c = random.randint(0,15)\n",
    "\n",
    "print(a)\n",
    "print(b)\n",
    "print(c)\n",
    "\n",
    "if a >0:\n",
    "    plus_result = (-b + (b**2 - 4 * a * c)**0.5)/ 2*a\n",
    "    minus_result = (-b - (b**2 - 4 * a * c)**0.5)/ 2*a\n",
    "    print (\"root 1 = \" + str(plus_result))\n",
    "    print (\"root 2 = \" + str(minus_result))\n",
    "\n",
    "    Discriminant = b**2 - 4 * a * c\n",
    "    if Discriminant == 0:\n",
    "        print(\"one real root\")\n",
    "    elif Discriminant > 0:\n",
    "        print(\"two real roots\")\n",
    "    elif Discriminant < 0:\n",
    "        print(\"no real roots\")\n",
    "else:\n",
    "    print(\"a must be greater than 0\")"
   ]
  },
  {
   "cell_type": "code",
   "execution_count": 118,
   "metadata": {},
   "outputs": [
    {
     "name": "stdout",
     "output_type": "stream",
     "text": [
      "3\n",
      "Wednesday\n"
     ]
    }
   ],
   "source": [
    "#7\n",
    "import random \n",
    "day = random.randint(1,7)\n",
    "print(day)\n",
    "\n",
    "if day == 1:\n",
    "    print(\"Monday\")\n",
    "elif day == 2:\n",
    "    print(\"Tuesday\")\n",
    "elif day == 3:\n",
    "    print(\"Wednesday\")\n",
    "elif day == 4:\n",
    "    print(\"Thursday\")\n",
    "elif day == 5:\n",
    "    print(\"Friday\")\n",
    "elif day == 6:\n",
    "    print(\"Saturday\")\n",
    "elif day == 7:\n",
    "    print(\"Sunday\")\n"
   ]
  },
  {
   "cell_type": "code",
   "execution_count": 146,
   "metadata": {},
   "outputs": [
    {
     "name": "stdout",
     "output_type": "stream",
     "text": [
      "enter the month eg. August: October\n",
      "Autumn\n"
     ]
    }
   ],
   "source": [
    "#8\n",
    "\n",
    "month = input(\"enter the month eg. August: \")\n",
    "\n",
    "\n",
    "if month == \"November\" or month == \"December\" or month == \"January\":\n",
    "    print(\"Winter\")\n",
    "elif month == \"February\" or month == \"March\" or month == \"April\":\n",
    "    print(\"Spring\")\n",
    "elif month == \"May\" or month == \"June\" or month == \"July\":\n",
    "    print(\"Summer\")\n",
    "elif month == \"August\" or month == \"September\" or month == \"October\":\n",
    "    print(\"Autumn\")\n",
    "\n",
    "\n"
   ]
  },
  {
   "cell_type": "code",
   "execution_count": 147,
   "metadata": {},
   "outputs": [
    {
     "name": "stdout",
     "output_type": "stream",
     "text": [
      "largest number is:  54\n"
     ]
    }
   ],
   "source": [
    "#9\n",
    "numbers = [23, 54, 32]\n",
    "print(\"largest number is: \", max(numbers))\n",
    "\n"
   ]
  },
  {
   "cell_type": "code",
   "execution_count": 169,
   "metadata": {},
   "outputs": [
    {
     "name": "stdout",
     "output_type": "stream",
     "text": [
      "two numbers are equal and the other different\n"
     ]
    }
   ],
   "source": [
    "#10\n",
    "numbers = [4, 4, 6]\n",
    "\n",
    "count = numbers.count (4)\n",
    "count2 = numbers.count(4)\n",
    "\n",
    "\n",
    "\n",
    "if count < 2 and count2 < 2:\n",
    "    print(\"the three numbers are different\")\n",
    "elif count == 1 and count2 == 2:\n",
    "    print(\"two numbers are equal and the other different\")\n",
    "elif count == 2 and count2 == 1:\n",
    "    print(\"two numbers are equal and the other different\")\n",
    "elif count ==2 and count2 ==2:\n",
    "    print(\"two numbers are equal and the other different\")\n",
    "elif count == 3:\n",
    "    print(\"the three numbers are equal\")"
   ]
  },
  {
   "cell_type": "code",
   "execution_count": 193,
   "metadata": {},
   "outputs": [
    {
     "name": "stdout",
     "output_type": "stream",
     "text": [
      "the first and third values are the smallest\n",
      "the smallest value is  24\n"
     ]
    }
   ],
   "source": [
    "#11\n",
    "\n",
    "numbers = [24, 32, 24]\n",
    "\n",
    "if min(numbers) == numbers[0] and min(numbers) == numbers[1]:\n",
    "    print(\"the first and second values are the smallest\")\n",
    "elif min(numbers) == numbers[0] and min(numbers) == numbers[2]:\n",
    "    print(\"the first and third values are the smallest\")\n",
    "elif min(numbers) == numbers[1] and min(numbers) == numbers[2]:\n",
    "    print(\"the second and third values are the smallest\")\n",
    "elif min(numbers) == numbers[0]:\n",
    "    print(\"the first value is the smallest\")\n",
    "elif min(numbers) == numbers[1]:\n",
    "    print(\"the second value is the smallest\")\n",
    "elif min(numbers) == numbers[2]:\n",
    "    print(\"the third value is the smallest\")\n",
    "\n",
    "print(\"the smallest value is \", min(numbers))\n",
    "\n",
    "\n"
   ]
  },
  {
   "cell_type": "code",
   "execution_count": 172,
   "metadata": {},
   "outputs": [
    {
     "name": "stdout",
     "output_type": "stream",
     "text": [
      "[25, 34, 54]\n"
     ]
    }
   ],
   "source": [
    "#12\n",
    "\n",
    "numbers = [34, 54, 25]\n",
    "\n",
    "numbers.sort()\n",
    "\n",
    "print(numbers)"
   ]
  }
 ],
 "metadata": {
  "celltoolbar": "Slideshow",
  "kernelspec": {
   "display_name": "Python 3",
   "language": "python",
   "name": "python3"
  },
  "language_info": {
   "codemirror_mode": {
    "name": "ipython",
    "version": 3
   },
   "file_extension": ".py",
   "mimetype": "text/x-python",
   "name": "python",
   "nbconvert_exporter": "python",
   "pygments_lexer": "ipython3",
   "version": "3.7.3"
  }
 },
 "nbformat": 4,
 "nbformat_minor": 2
}

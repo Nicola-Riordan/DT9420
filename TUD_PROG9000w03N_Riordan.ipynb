{
 "cells": [
  {
   "cell_type": "markdown",
   "metadata": {},
   "source": [
    "# Week 3 Exercises\n",
    "\n",
    "### Strings\n",
    "\n",
    "1. Write a Python program to count the number of times a character appears in a string (hint a dict will be really useful here).\n",
    "\n",
    "2. Write a Python program to get a string made of the first 2 and the last 2 characters from a given string. If the string length is less than 2, return this instead of the empty string. \n",
    "\n",
    "3. Write a Python program to get a single string from two given strings, separated by a space and swap the first two characters of each string.\n",
    "> Sample String : 'abc', 'xyz' \n",
    "  Expected Result : 'xyc abz'\n",
    "    \n",
    "4. Write a Python function that takes a list of words and returns the length of the longest one.\n",
    "\n",
    "### Dicts\n",
    "\n",
    "1. Write a Python script to print a dictionary where the keys are numbers between 1 and 15 (both included) and the values are the square of the key. \n",
    "    \n",
    "> Result should follow this format: \n",
    "    {1: 1, 2: 4, 3: 9, 4: 16, 5: 25, 6: 36, .....}  \n",
    "    \n",
    "  \n",
    "2. Write a Python program to sum all the items in the dictionary you made above. \n",
    "\n",
    "3. Write a Python program to get the maximum and minimum value in a dictionary.\n",
    "\n",
    "> sample_dict = {'x':500, 'y':5874, 'z': 560}\n",
    "      \n",
    "      \n",
    "4. Create a program which takes input from the user - they should enter a name, followed by a phone number, an email address and a date of birth. Use a dictionary to store the information. Allow the user to keep adding names and information to the dictionary until they want to stop. Then ask them do they want to look up a person's information and disply it in a nicely printed output."
   ]
  },
  {
   "cell_type": "markdown",
   "metadata": {},
   "source": [
    "<h3>Strings Exercises</h3>"
   ]
  },
  {
   "cell_type": "code",
   "execution_count": 13,
   "metadata": {},
   "outputs": [
    {
     "name": "stdout",
     "output_type": "stream",
     "text": [
      "enter character here: i\n",
      "character count is:  4\n",
      "{'t': 3, 'h': 2, 'i': 4, 's': 4, ' ': 4, 'e': 4, 'f': 1, 'r': 2, 'x': 1, 'c': 1}\n"
     ]
    }
   ],
   "source": [
    "#1\n",
    "s = \"this is the first exercise\"\n",
    "\n",
    "c = input(\"enter character here: \")\n",
    "\n",
    "print(\"character count is: \", s.count(c))\n",
    "\n",
    "\n",
    "#or\n",
    "\n",
    "\n",
    "d = {}\n",
    "for i in s:\n",
    "    d[i] = d.get(i,0)+1\n",
    "\n",
    "print(d)\n",
    "    \n",
    "\n"
   ]
  },
  {
   "cell_type": "code",
   "execution_count": 51,
   "metadata": {},
   "outputs": [
    {
     "name": "stdout",
     "output_type": "stream",
     "text": [
      "the first two and last two characters are : thse\n"
     ]
    }
   ],
   "source": [
    "#2\n",
    "\n",
    "x = \"this is the second exercise\"\n",
    "\n",
    "if len(x) >2:\n",
    "    y = x[:2] + x[-2:]\n",
    "    print(\"the first two and last two characters are :\",y)\n",
    "else:\n",
    "    print(\"string length is less than two\")"
   ]
  },
  {
   "cell_type": "code",
   "execution_count": 58,
   "metadata": {},
   "outputs": [
    {
     "name": "stdout",
     "output_type": "stream",
     "text": [
      "xyc abz\n"
     ]
    }
   ],
   "source": [
    "#3\n",
    "\n",
    "a = \"abc\"\n",
    "b = \"xyz\"\n",
    "\n",
    "a2 = b[:2] + a[2:]\n",
    "\n",
    "b2 = a[:2] + b[2:]\n",
    "c = (a2 + \" \" + b2)\n",
    "\n",
    "print(c)"
   ]
  },
  {
   "cell_type": "code",
   "execution_count": 79,
   "metadata": {},
   "outputs": [
    {
     "name": "stdout",
     "output_type": "stream",
     "text": [
      "the longest word is:  (8, 'exercise')\n"
     ]
    }
   ],
   "source": [
    "#4\n",
    "l = [\"this\", \"is\", \"the\", \"fourth\", \"exercise\"]\n",
    "\n",
    "l_length = []\n",
    "\n",
    "for i in l:\n",
    "    l_length.append((len(i), i))\n",
    "l_length.sort()\n",
    "l1 = l_length[-1]\n",
    "print(\"the longest word is: \",l1)"
   ]
  },
  {
   "cell_type": "markdown",
   "metadata": {},
   "source": [
    "<h3>Dictionary Exercises</h3>"
   ]
  },
  {
   "cell_type": "code",
   "execution_count": 83,
   "metadata": {},
   "outputs": [
    {
     "name": "stdout",
     "output_type": "stream",
     "text": [
      "{1: 1, 2: 4, 3: 9, 4: 16, 5: 25, 6: 36, 7: 49, 8: 64, 9: 81, 10: 100, 11: 121, 12: 144, 13: 169, 14: 196, 15: 225}\n"
     ]
    }
   ],
   "source": [
    "#1\n",
    "d = {1:1**2, 2:2**2, 3:3**2, 4:4**2, 5:5**2, 6:6**2, 7:7**2, 8:8**2, 9:9**2, 10:10**2, 11:11**2, 12:12**2, 13:13**2, 14:14**2, 15:15**2}\n",
    "\n",
    "print(d)"
   ]
  },
  {
   "cell_type": "code",
   "execution_count": 86,
   "metadata": {},
   "outputs": [
    {
     "name": "stdout",
     "output_type": "stream",
     "text": [
      "1240\n"
     ]
    }
   ],
   "source": [
    "#2\n",
    "add = sum(d.values())\n",
    "print(add)"
   ]
  },
  {
   "cell_type": "code",
   "execution_count": 100,
   "metadata": {},
   "outputs": [
    {
     "name": "stdout",
     "output_type": "stream",
     "text": [
      "the max value is:  5874\n",
      "the min value is:  500\n"
     ]
    }
   ],
   "source": [
    "#3\n",
    "sample_dict = {'x':500, 'y':5874, 'z': 560}\n",
    "\n",
    "s_dict = sample_dict.values()\n",
    "print(\"the max value is: \",max(s_dict))\n",
    "print(\"the min value is: \",min(s_dict))"
   ]
  },
  {
   "cell_type": "code",
   "execution_count": 1,
   "metadata": {},
   "outputs": [
    {
     "name": "stdout",
     "output_type": "stream",
     "text": [
      "would you like to make an entry? y/n y\n",
      "enter your name: Nicola Riordan\n",
      "enter your phone number: 1234567\n",
      "enter your email address: nicola@gmail.com\n",
      "enter your date of birth as dd/mm/yy: 13/10/94\n",
      "would you like to make another entry? y/n y\n",
      "enter your name: Jessica Riordan\n",
      "enter your phone number: 7654321\n",
      "enter your email address: jessica@gmail.com\n",
      "enter your date of birth as dd/mm/yy: 10/05/00\n",
      "would you like to make another entry? y/n n\n"
     ]
    }
   ],
   "source": [
    "#4\n",
    "info={}\n",
    "\n",
    "enter = input(\"would you like to make an entry? y/n \")\n",
    "\n",
    "while enter ==\"y\": \n",
    "    name = input(\"enter your name: \")\n",
    "    phone = \"phone:\",input(\"enter your phone number: \")\n",
    "    email = \"email\",input(\"enter your email address: \")\n",
    "    birth = \"DOB\",input(\"enter your date of birth as dd/mm/yy: \")\n",
    "    info[name]=(phone, email, birth)\n",
    "    entry = input(\"would you like to make another entry? y/n \")\n",
    "    if entry == \"n\":\n",
    "        break\n",
    "else:\n",
    "    print(\"you selected no\")"
   ]
  },
  {
   "cell_type": "code",
   "execution_count": 2,
   "metadata": {},
   "outputs": [
    {
     "name": "stdout",
     "output_type": "stream",
     "text": [
      "would you like to look up an entry? y/n y\n",
      "enter a name to look up: Mark\n",
      "entry not found\n",
      "enter a name to look up: Nicola Riordan\n",
      "the details for this entry are: (('phone:', '1234567'), ('email', 'nicola@gmail.com'), ('DOB', '13/10/94'))\n",
      "would you like to look up another entry? y/n n\n"
     ]
    }
   ],
   "source": [
    "#4\n",
    "lookup = input(\"would you like to look up an entry? y/n \")\n",
    "\n",
    "while lookup == \"y\":\n",
    "    detail = input(\"enter a name to look up: \")\n",
    "    if detail not in info:\n",
    "        print(\"entry not found\")\n",
    "    else:\n",
    "        print(\"the details for this entry are:\",info[detail])\n",
    "        another = input(\"would you like to look up another entry? y/n \")\n",
    "        if another == \"n\":\n",
    "            break\n",
    "else:\n",
    "    print(\"you selected no\")"
   ]
  },
  {
   "cell_type": "code",
   "execution_count": null,
   "metadata": {},
   "outputs": [],
   "source": []
  },
  {
   "cell_type": "code",
   "execution_count": null,
   "metadata": {},
   "outputs": [],
   "source": []
  }
 ],
 "metadata": {
  "kernelspec": {
   "display_name": "Python 3",
   "language": "python",
   "name": "python3"
  },
  "language_info": {
   "codemirror_mode": {
    "name": "ipython",
    "version": 3
   },
   "file_extension": ".py",
   "mimetype": "text/x-python",
   "name": "python",
   "nbconvert_exporter": "python",
   "pygments_lexer": "ipython3",
   "version": "3.7.3"
  }
 },
 "nbformat": 4,
 "nbformat_minor": 2
}

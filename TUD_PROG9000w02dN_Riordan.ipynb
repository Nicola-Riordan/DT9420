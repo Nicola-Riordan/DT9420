{
 "cells": [
  {
   "cell_type": "markdown",
   "metadata": {},
   "source": [
    "# Week 2 Exercises"
   ]
  },
  {
   "cell_type": "markdown",
   "metadata": {},
   "source": [
    "## Theory\n",
    "\n",
    "1. Look at the documentation for lists at https://docs.python.org/3.6/tutorial/ and/or https://docs.python.org/3.6/library/stdtypes.html#sequence-types-list-tuple-range\n",
    "\n",
    "    Pick out three _methods_ that are implemented by the list object, and describe what they do. Write some pseudocode (code that doesn't have to run but makes logical sense) that shows how each method might be used. \n",
    "\n",
    "    \n",
    "2. How would you implement a counter in a `for` loop? That is, as you iterate through the items in a sequence, how do you count how many times you run the loop? Show this with pseudocode.\n",
    "\n",
    "    How would you just output every third item?\n",
    "    \n",
    "\n",
    "3. What module would you import for;\n",
    " - working with directories and paths\n",
    " - working with dates and times\n",
    " - working with common data interchange formats (google might help...)  \n",
    "     _hint_ https://docs.python.org/3.6/library/index.html\n",
    "     \n",
    "     Write the import statement for each of the above cases.\n",
    "     \n",
    "4. Have a look at `tuples`. How are these different from `lists`. Why would you use one over the other?"
   ]
  },
  {
   "cell_type": "markdown",
   "metadata": {},
   "source": [
    "## Code\n",
    "\n",
    "### Basic\n",
    "\n",
    "1. Take a year number as input from the user, and output whether the year is a leap-year or not.\n",
    "\n",
    "    https://en.wikipedia.org/wiki/Leap_year#Algorithm \n",
    "    \n",
    "    Extend the program to output how long it has been since the last leap year if it is not a leap year.\n",
    "    \n",
    "    Hint below if needed\n",
    "\n",
    "\n",
    "2. Write a program that takes a month numeral from the user and returns the text month and the season that the month is in.\n",
    "\n",
    "    Extend the above program to also return the number of days in the month entered. Hint below if needed.\n",
    "\n",
    "\n",
    "3.  Write a program that makes a shopping list, with the user able to enter an item and the number of items required. Then print the list, and the total number of items needed. Hint below if needed.\n",
    "\n",
    "\n",
    "4. Write a function which finds the largest of a list of numbers. Do not use a method, compare each element to the current maximum. Use a loop.\n",
    "\n",
    "\n",
    "5. Create a program that gives the user a menu with the following options:\n",
    "    - A Add an element to a list\n",
    "    - R Remove an element from the list\n",
    "    - P Replace an element with another\n",
    "    - S sort the list\n",
    "    Original list: [‘Madrid’, ‘Dublin’, ’New York’, ’Paris’, ’London’]\n",
    "\n",
    "_hint 1: you will need to use the modulus operator_  \n",
    "_hint 2: create a second list with the number of days in each 'slot'_  \n",
    "_hint 3: use a for loop to take each item/count input and add each to a seperate list_\n",
    "\n"
   ]
  },
  {
   "cell_type": "code",
   "execution_count": 10,
   "metadata": {},
   "outputs": [
    {
     "name": "stdout",
     "output_type": "stream",
     "text": [
      "enter your year here: 1803\n",
      "this year is not a leap year\n",
      "the last leap year was 3 years ago; 1800\n"
     ]
    }
   ],
   "source": [
    "#1\n",
    "year = input(\"enter your year here: \")\n",
    "year = int(year)\n",
    "\n",
    "\n",
    "if year % 4 ==0 and year % 100 !=0:\n",
    "    print(\"this is a leap year\")\n",
    "\n",
    "elif year % 4 ==0 and year %100 ==0 and year %400 ==0:\n",
    "    print(\"this year is a leap year\")\n",
    "    \n",
    "else:\n",
    "    print(\"this year is not a leap year\")\n",
    "\n",
    "if (year %4 !=0 or (year % 4 ==0 and year % 100 ==0) or (year % 4 ==0 and year %100 ==0 and year %400 !=0)) and (((year - 1) % 4 ==0 and (year - 1) % 100 !=0) or ((year - 1) % 4 ==0 and (year - 1) %100 ==0 and (year - 1) %400 ==0)):\n",
    "    print(\"the last leap year was 1 year ago;\", year - 1)\n",
    "elif (year %4 !=0 or (year % 4 ==0 and year % 100 ==0) or (year % 4 ==0 and year %100 ==0 and year %400 !=0)) and (((year - 2) % 4 ==0 and (year - 2) % 100 !=0) or ((year - 2) % 4 ==0 and (year - 2) %100 ==0 and (year - 2) %400 ==0)):\n",
    "    print(\"the last leap year was 2 years ago;\", year - 2)\n",
    "elif (year %4 !=0 or (year % 4 ==0 and year % 100 ==0) or (year % 4 ==0 and year %100 ==0 and year %400 !=0)) and (((year - 3) % 4 ==0 and (year - 3) % 100 !=0) or ((year - 3) % 4 ==0 and (year - 3) %100 ==0 and (year - 3) %400 ==0)):\n",
    "    print(\"the last leap year was 3 years ago;\", year - 3)\n",
    "    "
   ]
  },
  {
   "cell_type": "code",
   "execution_count": 12,
   "metadata": {},
   "outputs": [
    {
     "name": "stdout",
     "output_type": "stream",
     "text": [
      "enter month number: 6\n",
      "July Summer 31\n"
     ]
    }
   ],
   "source": [
    "#2\n",
    "month = input(\"enter month number: \")\n",
    "month = int(month)\n",
    "\n",
    "monthname = [\"January\", \"February\", \"March\", \"April\", \"May\", \"June\", \"July\", \"August\", \"September\", \"October\", \"November\", \"December\"]\n",
    "season = [\"Winter\", \"Spring\",\"Spring\",\"Spring\", \"Summer\",\"Summer\",\"Summer\",\"Autumn\",\"Autumn\",\"Autumn\",\"Winter\", \"Winter\"]\n",
    "days = [31, 28, 31, 30, 31, 30, 31,31, 30, 31, 30, 31]\n",
    "print(monthname[month], season[month], days[month])\n"
   ]
  },
  {
   "cell_type": "code",
   "execution_count": 13,
   "metadata": {},
   "outputs": [
    {
     "name": "stdout",
     "output_type": "stream",
     "text": [
      "enter the amount of items you need: 3\n",
      "please input name of item: pear\n",
      "enter quantity needed for item: 2\n",
      "please input name of item: apple\n",
      "enter quantity needed for item: 4\n",
      "please input name of item: berry\n",
      "enter quantity needed for item: 5\n",
      "1 .  pear , qty:  2\n",
      "2 .  apple , qty:  4\n",
      "3 .  berry , qty:  5\n",
      "total =  11\n"
     ]
    }
   ],
   "source": [
    "#3\n",
    "numberofitems = input(\"enter the amount of items you need: \")\n",
    "numberofitems = int(numberofitems)\n",
    "\n",
    "itemlist = []\n",
    "quantitylist = []\n",
    "for i in range(numberofitems):\n",
    "    itemname = input(\"please input name of item: \")\n",
    "    quantity = input(\"enter quantity needed for item: \")\n",
    "    quantity = int(quantity)\n",
    "    itemlist.append(itemname)\n",
    "    quantitylist.append(quantity)\n",
    "total = 0\n",
    "for i in range(numberofitems):\n",
    "    total = total + quantitylist[i]\n",
    "    print(str(i + 1), \". \", str(itemlist[i]), \", qty: \", str(quantitylist[i]))\n",
    "print(\"total = \", str(total))\n",
    "\n"
   ]
  },
  {
   "cell_type": "code",
   "execution_count": 18,
   "metadata": {},
   "outputs": [
    {
     "name": "stdout",
     "output_type": "stream",
     "text": [
      "95\n"
     ]
    }
   ],
   "source": [
    "#4\n",
    "numbers = [12,54,67,84,56,95,6,7,43,21,1,45,78]\n",
    "\n",
    "maxvalue = 0\n",
    "for i in range(13):\n",
    "    if maxvalue < numbers[i]:\n",
    "        maxvalue = numbers[i]\n",
    "print(maxvalue)\n"
   ]
  },
  {
   "cell_type": "code",
   "execution_count": 19,
   "metadata": {},
   "outputs": [
    {
     "name": "stdout",
     "output_type": "stream",
     "text": [
      "enter element to add here: Rome\n",
      "enter element to remove here: Madrid\n",
      "enter element to be replaced: Paris\n",
      "enter element to replace with: Milan\n",
      "choose a or b: a. accending, b. decending: a\n",
      "['Dublin', 'London', 'Milan', 'New York', 'Rome']\n"
     ]
    }
   ],
   "source": [
    "#5\n",
    "list = [\"Madrid\", \"Dublin\", \"New York\", \"Paris\", \"London\"]\n",
    "add = input(\"enter element to add here: \")\n",
    "list.append(add)\n",
    "remove = input(\"enter element to remove here: \")\n",
    "list.remove(remove)\n",
    "replace1 = input(\"enter element to be replaced: \")\n",
    "replace2 = input(\"enter element to replace with: \")\n",
    "for n, i in enumerate(list):\n",
    "    if i == replace1:\n",
    "        list[n] = replace2\n",
    "\n",
    "sort = input(\"choose a or b: a. accending, b. decending: \")\n",
    "if sort == \"a\":\n",
    "    list.sort()\n",
    "elif sort == \"b\":\n",
    "    list.reverse\n",
    "print(list)"
   ]
  },
  {
   "cell_type": "markdown",
   "metadata": {},
   "source": [
    "<h3> 1.\tPick out three methods that are implemented by the list object, and describe what they do. Write some pseudocode (code that doesn't have to run but makes logical sense) that shows how each method might be used.</h3>\n",
    "<br>\n",
    "<h4>Method 1: Slicing (Python Software Foundation, 2016)</h4><br>\n",
    "<p>Using this method, a list can be separated. For example, there is a list of names in a class, and the class is to be divided into two fairly, splicing the list so that every second name from the list in alphabetical order is put in one group and every other name is put into the second group is a fair way of splitting a class.<br>\n",
    "list = [\"Mary\", \"Joe\", \"Michael\", \"Sam\", \"Nicola\", \"Julia\", \"Fred\", \"Hannah\"]<br>\n",
    "list.sort()<br>\n",
    "group1 = list[0:8:2]<br>\n",
    "group2 = list[1:8:2]<br>\n",
    "print(group1)<br>\n",
    "print(group2)</p>\n",
    "\n",
    "<h4>Method 2: Assignment to slices (Python Software Foundation, 2016)</h4>\n",
    "<p>It is possible to edit a list by assigning new items to parts of a list, or replacing the list entirely. If there is a list in a database and it changes from week to week, such as a shop ordering supplies, the entire table would not have to be deleted and started again, the items can simply be replaced, added or removed every week.<br>\n",
    "order = [\"Eggs\", \"Flour\", \"Sugar\", \"Spoons\"]<br>\n",
    "order[1:3] = [\"Forks\"]<br>\n",
    "print(order)</p>\n",
    "\n",
    "<h4>Method 3: Nesting (Python Software Foundation, 2016)</h4>\n",
    "<p>Lists can be nested, which can be used to create a table, or hold multiple lists in the same location. This can make it easier to group items together in order to find them more easily, or delete them more quickly. For example, a list holds 10 separate class lists each containing 5-10 names. When one class graduates, this individual class list can simply be removed or replaced from the overall list, instead of each name being deleted.<br>\n",
    "school = [[\"Joe\", \"Hannah\", \"Mary\", \"Tom\", \"Harry\", \"Julia\"],[\"Lucy\", \"Nicola\", \"Conor\", \"Eoin\", \"Owen\"],[\"Mark\", \"Lisa\", \"Louise\", \"Hugh\", \"Fred\", \"Mark\"]]<br>\n",
    "school[1] = [\"Harry\", \"John\", \"Rachel\", \"Kate\", \"Tim\"]<br>\n",
    "print(school)</p>\n",
    "\n",
    "<h3>2.\tHow would you implement a counter in a for loop? That is, as you iterate through the items in a sequence, how do you count how many times you run the loop? Show this with pseudocode. How would you just output every third item?</h3>\n",
    "\n",
    "<p>First initialise the count to 0, then for an index in a list add an increment of 1. If the count is printed, this will say how many times the loop ran. To only output every third item, only print the items in the count that are divisible by 3.\n",
    "<br><br>\n",
    "count = 0<br>\n",
    "list1 = [4,5,6,4,3,4,5,6,7,4]<br>\n",
    "for i in list1:<br>\n",
    "&nbsp;&nbsp;&nbsp;&nbsp;count +=1<br>\n",
    "   \t &nbsp;&nbsp;&nbsp;&nbsp;if count % 3 ==0:<br>\n",
    "       \t &nbsp;&nbsp;&nbsp;&nbsp;&nbsp;print(i)<br>\n",
    "print(count)</p>\n",
    "<br>\n",
    "<h3>3.\tWhat module would you import for;</h3>\n",
    "\n",
    "<p>Working  with directories and paths: pathlib – import pathlib<br>\n",
    "\n",
    "Working with dates and times: datetime – import datetime<br>\n",
    "\n",
    "Working with common data interchangeable formats: os – import os</p>\n",
    "\n",
    "<h3>4.\tHave a look at tuples. How are these different from lists. Why would you use one over the other?</h3>\n",
    "<p>Tuples are written with round brackets, while lists use square brackets. While lists can be changed, tuples are unchangeable (W3 Schools, 2018).<br>\n",
    "You would use a list over a tuple if you wanted the list items to be changeable, if you wanted to remove or add items to a list, or be able to make a list longer or shorter.<br>\n",
    "You would use a tuple if you did not want the information within it to change. Tuples are also faster than lists, as they use up less memory, and they can be used as a key in a directory while lists cannot, since keys cannot be mutable like lists (Samuel, 2018)</p>\n",
    "<br>\n",
    "<h3>References:</h3>\n",
    "<p>Python Software Foundation. (2016). An Informal Introduction to Python. Available: https://docs.python.org/3.6/tutorial/introduction.html#lists. Last accessed 29/09/19.<br>\n",
    "Samuel, N. (2018). Lists vs Tuples in Python. Available: https://stackabuse.com/lists-vs-tuples-in-python/. Last accessed 30/09/19.<br>\n",
    "W3 Schools. (2018). Python Tuples. Available: https://www.w3schools.com/python/python_tuples.asp. Last accessed 29/09/19.</p>\n"
   ]
  },
  {
   "cell_type": "markdown",
   "metadata": {},
   "source": [
    "### Chalening\n",
    "\n",
    "1. Look at list comprehensions and"
   ]
  },
  {
   "cell_type": "code",
   "execution_count": 6,
   "metadata": {},
   "outputs": [],
   "source": [
    "import string\n",
    "import random\n",
    "\n",
    "some_letters = random.choices(string.ascii_lowercase, k = 40)\n"
   ]
  }
 ],
 "metadata": {
  "kernelspec": {
   "display_name": "Python 3",
   "language": "python",
   "name": "python3"
  },
  "language_info": {
   "codemirror_mode": {
    "name": "ipython",
    "version": 3
   },
   "file_extension": ".py",
   "mimetype": "text/x-python",
   "name": "python",
   "nbconvert_exporter": "python",
   "pygments_lexer": "ipython3",
   "version": "3.7.3"
  }
 },
 "nbformat": 4,
 "nbformat_minor": 2
}
